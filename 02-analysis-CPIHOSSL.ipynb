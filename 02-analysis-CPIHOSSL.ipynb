{
 "cells": [
  {
   "cell_type": "code",
   "execution_count": 45,
   "id": "29afa114",
   "metadata": {},
   "outputs": [],
   "source": [
    "import warnings\n",
    "warnings.filterwarnings('ignore')"
   ]
  },
  {
   "cell_type": "code",
   "execution_count": 179,
   "id": "b32af84b",
   "metadata": {},
   "outputs": [],
   "source": [
    "import pandas as pd\n",
    "import numpy as np\n",
    "import scipy\n",
    "import matplotlib.pyplot as plt\n",
    "\n",
    "from statsmodels.graphics.tsaplots import plot_acf, plot_pacf\n",
    "from statsmodels.tsa.stattools import adfuller\n",
    "from statsmodels.tsa.ar_model import AutoReg\n",
    "from statsmodels.tsa.arima.model import ARIMA\n",
    "\n",
    "from tqdm import tqdm"
   ]
  },
  {
   "cell_type": "code",
   "execution_count": 47,
   "id": "8585d99f",
   "metadata": {},
   "outputs": [],
   "source": [
    "# !pip install --upgrade \"statsmodels>=0.14\""
   ]
  },
  {
   "cell_type": "code",
   "execution_count": 48,
   "id": "17189222",
   "metadata": {},
   "outputs": [],
   "source": [
    "plt.style.use('ggplot')"
   ]
  },
  {
   "cell_type": "code",
   "execution_count": 49,
   "id": "cc7076ed",
   "metadata": {},
   "outputs": [
    {
     "data": {
      "text/html": [
       "<div>\n",
       "<style scoped>\n",
       "    .dataframe tbody tr th:only-of-type {\n",
       "        vertical-align: middle;\n",
       "    }\n",
       "\n",
       "    .dataframe tbody tr th {\n",
       "        vertical-align: top;\n",
       "    }\n",
       "\n",
       "    .dataframe thead th {\n",
       "        text-align: right;\n",
       "    }\n",
       "</style>\n",
       "<table border=\"1\" class=\"dataframe\">\n",
       "  <thead>\n",
       "    <tr style=\"text-align: right;\">\n",
       "      <th></th>\n",
       "      <th>observation_date</th>\n",
       "      <th>CPIHOSSL</th>\n",
       "    </tr>\n",
       "  </thead>\n",
       "  <tbody>\n",
       "    <tr>\n",
       "      <th>0</th>\n",
       "      <td>1967-01-01</td>\n",
       "      <td>30.5</td>\n",
       "    </tr>\n",
       "    <tr>\n",
       "      <th>1</th>\n",
       "      <td>1967-02-01</td>\n",
       "      <td>30.5</td>\n",
       "    </tr>\n",
       "    <tr>\n",
       "      <th>2</th>\n",
       "      <td>1967-03-01</td>\n",
       "      <td>30.5</td>\n",
       "    </tr>\n",
       "    <tr>\n",
       "      <th>3</th>\n",
       "      <td>1967-04-01</td>\n",
       "      <td>30.6</td>\n",
       "    </tr>\n",
       "    <tr>\n",
       "      <th>4</th>\n",
       "      <td>1967-05-01</td>\n",
       "      <td>30.7</td>\n",
       "    </tr>\n",
       "  </tbody>\n",
       "</table>\n",
       "</div>"
      ],
      "text/plain": [
       "  observation_date  CPIHOSSL\n",
       "0       1967-01-01      30.5\n",
       "1       1967-02-01      30.5\n",
       "2       1967-03-01      30.5\n",
       "3       1967-04-01      30.6\n",
       "4       1967-05-01      30.7"
      ]
     },
     "execution_count": 49,
     "metadata": {},
     "output_type": "execute_result"
    }
   ],
   "source": [
    "cpih = pd.read_csv('CPIHOSSL.csv')\n",
    "cpih.head()"
   ]
  },
  {
   "cell_type": "code",
   "execution_count": 50,
   "id": "a43847c1",
   "metadata": {},
   "outputs": [],
   "source": [
    "cpih['CPIHOSSL'] = cpih['CPIHOSSL'].astype(float)"
   ]
  },
  {
   "cell_type": "code",
   "execution_count": 51,
   "id": "a2e7fb9e",
   "metadata": {},
   "outputs": [],
   "source": [
    "cpih['CPIHOSSL_delta'] = cpih['CPIHOSSL'].diff()"
   ]
  },
  {
   "cell_type": "code",
   "execution_count": 52,
   "id": "9d5c5c71-88ce-4b70-a92b-ded9aaf9ff2f",
   "metadata": {},
   "outputs": [],
   "source": [
    "cpih['CPIHOSSL_log'] = np.log(cpih['CPIHOSSL'])\n",
    "cpih['CPIHOSSL_logdelta'] = cpih['CPIHOSSL_log'].diff()"
   ]
  },
  {
   "cell_type": "code",
   "execution_count": 53,
   "id": "a571e955",
   "metadata": {},
   "outputs": [
    {
     "data": {
      "text/html": [
       "<div>\n",
       "<style scoped>\n",
       "    .dataframe tbody tr th:only-of-type {\n",
       "        vertical-align: middle;\n",
       "    }\n",
       "\n",
       "    .dataframe tbody tr th {\n",
       "        vertical-align: top;\n",
       "    }\n",
       "\n",
       "    .dataframe thead th {\n",
       "        text-align: right;\n",
       "    }\n",
       "</style>\n",
       "<table border=\"1\" class=\"dataframe\">\n",
       "  <thead>\n",
       "    <tr style=\"text-align: right;\">\n",
       "      <th></th>\n",
       "      <th>observation_date</th>\n",
       "      <th>CPIHOSSL</th>\n",
       "      <th>CPIHOSSL_delta</th>\n",
       "      <th>CPIHOSSL_log</th>\n",
       "      <th>CPIHOSSL_logdelta</th>\n",
       "    </tr>\n",
       "  </thead>\n",
       "  <tbody>\n",
       "    <tr>\n",
       "      <th>0</th>\n",
       "      <td>1967-01-01</td>\n",
       "      <td>30.5</td>\n",
       "      <td>NaN</td>\n",
       "      <td>3.417727</td>\n",
       "      <td>NaN</td>\n",
       "    </tr>\n",
       "    <tr>\n",
       "      <th>1</th>\n",
       "      <td>1967-02-01</td>\n",
       "      <td>30.5</td>\n",
       "      <td>0.0</td>\n",
       "      <td>3.417727</td>\n",
       "      <td>0.000000</td>\n",
       "    </tr>\n",
       "    <tr>\n",
       "      <th>2</th>\n",
       "      <td>1967-03-01</td>\n",
       "      <td>30.5</td>\n",
       "      <td>0.0</td>\n",
       "      <td>3.417727</td>\n",
       "      <td>0.000000</td>\n",
       "    </tr>\n",
       "    <tr>\n",
       "      <th>3</th>\n",
       "      <td>1967-04-01</td>\n",
       "      <td>30.6</td>\n",
       "      <td>0.1</td>\n",
       "      <td>3.421000</td>\n",
       "      <td>0.003273</td>\n",
       "    </tr>\n",
       "    <tr>\n",
       "      <th>4</th>\n",
       "      <td>1967-05-01</td>\n",
       "      <td>30.7</td>\n",
       "      <td>0.1</td>\n",
       "      <td>3.424263</td>\n",
       "      <td>0.003263</td>\n",
       "    </tr>\n",
       "  </tbody>\n",
       "</table>\n",
       "</div>"
      ],
      "text/plain": [
       "  observation_date  CPIHOSSL  CPIHOSSL_delta  CPIHOSSL_log  CPIHOSSL_logdelta\n",
       "0       1967-01-01      30.5             NaN      3.417727                NaN\n",
       "1       1967-02-01      30.5             0.0      3.417727           0.000000\n",
       "2       1967-03-01      30.5             0.0      3.417727           0.000000\n",
       "3       1967-04-01      30.6             0.1      3.421000           0.003273\n",
       "4       1967-05-01      30.7             0.1      3.424263           0.003263"
      ]
     },
     "execution_count": 53,
     "metadata": {},
     "output_type": "execute_result"
    }
   ],
   "source": [
    "cpih.head()"
   ]
  },
  {
   "cell_type": "code",
   "execution_count": 54,
   "id": "84a3320c-b7cd-4675-9e8e-e06130dcef22",
   "metadata": {},
   "outputs": [
    {
     "data": {
      "text/html": [
       "<div>\n",
       "<style scoped>\n",
       "    .dataframe tbody tr th:only-of-type {\n",
       "        vertical-align: middle;\n",
       "    }\n",
       "\n",
       "    .dataframe tbody tr th {\n",
       "        vertical-align: top;\n",
       "    }\n",
       "\n",
       "    .dataframe thead th {\n",
       "        text-align: right;\n",
       "    }\n",
       "</style>\n",
       "<table border=\"1\" class=\"dataframe\">\n",
       "  <thead>\n",
       "    <tr style=\"text-align: right;\">\n",
       "      <th></th>\n",
       "      <th>observation_date</th>\n",
       "      <th>CPIHOSSL</th>\n",
       "      <th>CPIHOSSL_delta</th>\n",
       "      <th>CPIHOSSL_log</th>\n",
       "      <th>CPIHOSSL_logdelta</th>\n",
       "    </tr>\n",
       "  </thead>\n",
       "  <tbody>\n",
       "    <tr>\n",
       "      <th>0</th>\n",
       "      <td>1967-01-01</td>\n",
       "      <td>30.500</td>\n",
       "      <td>NaN</td>\n",
       "      <td>3.417727</td>\n",
       "      <td>NaN</td>\n",
       "    </tr>\n",
       "    <tr>\n",
       "      <th>1</th>\n",
       "      <td>1967-02-01</td>\n",
       "      <td>30.500</td>\n",
       "      <td>0.000</td>\n",
       "      <td>3.417727</td>\n",
       "      <td>0.000000</td>\n",
       "    </tr>\n",
       "    <tr>\n",
       "      <th>2</th>\n",
       "      <td>1967-03-01</td>\n",
       "      <td>30.500</td>\n",
       "      <td>0.000</td>\n",
       "      <td>3.417727</td>\n",
       "      <td>0.000000</td>\n",
       "    </tr>\n",
       "    <tr>\n",
       "      <th>3</th>\n",
       "      <td>1967-04-01</td>\n",
       "      <td>30.600</td>\n",
       "      <td>0.100</td>\n",
       "      <td>3.421000</td>\n",
       "      <td>0.003273</td>\n",
       "    </tr>\n",
       "    <tr>\n",
       "      <th>4</th>\n",
       "      <td>1967-05-01</td>\n",
       "      <td>30.700</td>\n",
       "      <td>0.100</td>\n",
       "      <td>3.424263</td>\n",
       "      <td>0.003263</td>\n",
       "    </tr>\n",
       "    <tr>\n",
       "      <th>...</th>\n",
       "      <td>...</td>\n",
       "      <td>...</td>\n",
       "      <td>...</td>\n",
       "      <td>...</td>\n",
       "      <td>...</td>\n",
       "    </tr>\n",
       "    <tr>\n",
       "      <th>699</th>\n",
       "      <td>2025-04-01</td>\n",
       "      <td>344.919</td>\n",
       "      <td>1.627</td>\n",
       "      <td>5.843310</td>\n",
       "      <td>0.004728</td>\n",
       "    </tr>\n",
       "    <tr>\n",
       "      <th>700</th>\n",
       "      <td>2025-05-01</td>\n",
       "      <td>345.867</td>\n",
       "      <td>0.948</td>\n",
       "      <td>5.846054</td>\n",
       "      <td>0.002745</td>\n",
       "    </tr>\n",
       "    <tr>\n",
       "      <th>701</th>\n",
       "      <td>2025-06-01</td>\n",
       "      <td>346.957</td>\n",
       "      <td>1.090</td>\n",
       "      <td>5.849201</td>\n",
       "      <td>0.003147</td>\n",
       "    </tr>\n",
       "    <tr>\n",
       "      <th>702</th>\n",
       "      <td>2025-07-01</td>\n",
       "      <td>347.713</td>\n",
       "      <td>0.756</td>\n",
       "      <td>5.851377</td>\n",
       "      <td>0.002177</td>\n",
       "    </tr>\n",
       "    <tr>\n",
       "      <th>703</th>\n",
       "      <td>2025-08-01</td>\n",
       "      <td>348.967</td>\n",
       "      <td>1.254</td>\n",
       "      <td>5.854977</td>\n",
       "      <td>0.003600</td>\n",
       "    </tr>\n",
       "  </tbody>\n",
       "</table>\n",
       "<p>704 rows × 5 columns</p>\n",
       "</div>"
      ],
      "text/plain": [
       "    observation_date  CPIHOSSL  CPIHOSSL_delta  CPIHOSSL_log  \\\n",
       "0         1967-01-01    30.500             NaN      3.417727   \n",
       "1         1967-02-01    30.500           0.000      3.417727   \n",
       "2         1967-03-01    30.500           0.000      3.417727   \n",
       "3         1967-04-01    30.600           0.100      3.421000   \n",
       "4         1967-05-01    30.700           0.100      3.424263   \n",
       "..               ...       ...             ...           ...   \n",
       "699       2025-04-01   344.919           1.627      5.843310   \n",
       "700       2025-05-01   345.867           0.948      5.846054   \n",
       "701       2025-06-01   346.957           1.090      5.849201   \n",
       "702       2025-07-01   347.713           0.756      5.851377   \n",
       "703       2025-08-01   348.967           1.254      5.854977   \n",
       "\n",
       "     CPIHOSSL_logdelta  \n",
       "0                  NaN  \n",
       "1             0.000000  \n",
       "2             0.000000  \n",
       "3             0.003273  \n",
       "4             0.003263  \n",
       "..                 ...  \n",
       "699           0.004728  \n",
       "700           0.002745  \n",
       "701           0.003147  \n",
       "702           0.002177  \n",
       "703           0.003600  \n",
       "\n",
       "[704 rows x 5 columns]"
      ]
     },
     "execution_count": 54,
     "metadata": {},
     "output_type": "execute_result"
    }
   ],
   "source": [
    "cpih"
   ]
  },
  {
   "cell_type": "code",
   "execution_count": 55,
   "id": "7cc75a66",
   "metadata": {},
   "outputs": [],
   "source": [
    "cpih['observation_date'] = pd.to_datetime(cpih['observation_date'])"
   ]
  },
  {
   "cell_type": "code",
   "execution_count": 56,
   "id": "67ddb3d7",
   "metadata": {},
   "outputs": [],
   "source": [
    "cpih_rec = cpih[cpih['observation_date'] >= pd.to_datetime('2020-01-01')]\n",
    "cpih_realrec = cpih[cpih['observation_date'] >= pd.to_datetime('2024-01-01')]"
   ]
  },
  {
   "cell_type": "code",
   "execution_count": 57,
   "id": "cdb2e0ee",
   "metadata": {},
   "outputs": [
    {
     "data": {
      "text/plain": [
       "Text(0, 0.5, 'CPI for Urban Consumers - Housing')"
      ]
     },
     "execution_count": 57,
     "metadata": {},
     "output_type": "execute_result"
    },
    {
     "data": {
      "image/png": "[encoded data removed]",
      "text/plain": [
       "<Figure size 640x480 with 1 Axes>"
      ]
     },
     "metadata": {},
     "output_type": "display_data"
    }
   ],
   "source": [
    "plt.plot(cpih_rec['observation_date'], cpih_rec['CPIHOSSL'])\n",
    "plt.xlabel('Date')\n",
    "plt.ylabel('CPI for Urban Consumers - Housing')"
   ]
  },
  {
   "cell_type": "code",
   "execution_count": 58,
   "id": "22d8e771-2b42-465b-b20d-e3371d71fb96",
   "metadata": {},
   "outputs": [
    {
     "data": {
      "text/plain": [
       "Text(0, 0.5, 'Monthly Change in CPIHOSSL')"
      ]
     },
     "execution_count": 58,
     "metadata": {},
     "output_type": "execute_result"
    },
    {
     "data": {
      "image/png": "[encoded data removed]",
      "text/plain": [
       "<Figure size 640x480 with 1 Axes>"
      ]
     },
     "metadata": {},
     "output_type": "display_data"
    }
   ],
   "source": [
    "plt.plot(cpih_rec['observation_date'], cpih_rec['CPIHOSSL_delta'])\n",
    "plt.xlabel('Date')\n",
    "plt.ylabel('Monthly Change in CPIHOSSL')"
   ]
  },
  {
   "cell_type": "code",
   "execution_count": 192,
   "id": "a641e4bb-bed9-48b6-805b-f24c171f2b75",
   "metadata": {},
   "outputs": [
    {
     "name": "stdout",
     "output_type": "stream",
     "text": [
      "ADF Statistic: -3.362305\n",
      "p-value: 0.012313\n"
     ]
    }
   ],
   "source": [
    "adf_test = adfuller(cpih['CPIHOSSL_logdelta'][1:].values)\n",
    "print('ADF Statistic: %f' % adf_test[0])\n",
    "print('p-value: %f' % adf_test[1])"
   ]
  },
  {
   "cell_type": "code",
   "execution_count": 59,
   "id": "5e7c4b9a",
   "metadata": {},
   "outputs": [
    {
     "data": {
      "image/png": "[encoded data removed]",
      "text/plain": [
       "<Figure size 640x480 with 1 Axes>"
      ]
     },
     "execution_count": 59,
     "metadata": {},
     "output_type": "execute_result"
    },
    {
     "data": {
      "image/png": "[encoded data removed]",
      "text/plain": [
       "<Figure size 640x480 with 1 Axes>"
      ]
     },
     "metadata": {},
     "output_type": "display_data"
    }
   ],
   "source": [
    "plot_acf(cpih['CPIHOSSL_logdelta'][1:])"
   ]
  },
  {
   "cell_type": "code",
   "execution_count": 60,
   "id": "4cbfeec2",
   "metadata": {},
   "outputs": [
    {
     "data": {
      "image/png": "[encoded data removed]",
      "text/plain": [
       "<Figure size 640x480 with 1 Axes>"
      ]
     },
     "execution_count": 60,
     "metadata": {},
     "output_type": "execute_result"
    },
    {
     "data": {
      "image/png": "[encoded data removed]",
      "text/plain": [
       "<Figure size 640x480 with 1 Axes>"
      ]
     },
     "metadata": {},
     "output_type": "display_data"
    }
   ],
   "source": [
    "plot_pacf(cpih['CPIHOSSL_logdelta'][1:])"
   ]
  },
  {
   "cell_type": "code",
   "execution_count": 61,
   "id": "71cff0a3-e60b-4594-964a-209d605d5e5b",
   "metadata": {},
   "outputs": [],
   "source": [
    "b = 15"
   ]
  },
  {
   "cell_type": "code",
   "execution_count": 62,
   "id": "190bcda8-b15e-4adb-a0db-03ad26035517",
   "metadata": {},
   "outputs": [
    {
     "data": {
      "text/plain": [
       "688"
      ]
     },
     "execution_count": 62,
     "metadata": {},
     "output_type": "execute_result"
    }
   ],
   "source": [
    "end = cpih['CPIHOSSL_logdelta'][1:].values.shape[0] - b\n",
    "end"
   ]
  },
  {
   "cell_type": "code",
   "execution_count": 97,
   "id": "2996f529",
   "metadata": {},
   "outputs": [
    {
     "name": "stdout",
     "output_type": "stream",
     "text": [
      "                            AutoReg Model Results                             \n",
      "==============================================================================\n",
      "Dep. Variable:                      y   No. Observations:                  687\n",
      "Model:                     AutoReg(7)   Log Likelihood                3231.836\n",
      "Method:               Conditional MLE   S.D. of innovations              0.002\n",
      "Date:                Sun, 14 Sep 2025   AIC                          -6445.672\n",
      "Time:                        17:36:43   BIC                          -6404.973\n",
      "Sample:                             7   HQIC                         -6429.918\n",
      "                                  687                                         \n",
      "==============================================================================\n",
      "                 coef    std err          z      P>|z|      [0.025      0.975]\n",
      "------------------------------------------------------------------------------\n",
      "const          0.0004      0.000      2.950      0.003       0.000       0.001\n",
      "y.L1           0.3521      0.038      9.246      0.000       0.277       0.427\n",
      "y.L2           0.1886      0.040      4.677      0.000       0.110       0.268\n",
      "y.L3           0.0619      0.041      1.517      0.129      -0.018       0.142\n",
      "y.L4           0.0232      0.041      0.567      0.571      -0.057       0.103\n",
      "y.L5           0.0751      0.041      1.841      0.066      -0.005       0.155\n",
      "y.L6           0.0643      0.040      1.599      0.110      -0.015       0.143\n",
      "y.L7           0.1206      0.038      3.176      0.001       0.046       0.195\n",
      "                                    Roots                                    \n",
      "=============================================================================\n",
      "                  Real          Imaginary           Modulus         Frequency\n",
      "-----------------------------------------------------------------------------\n",
      "AR.1            1.0406           -0.0000j            1.0406           -0.0000\n",
      "AR.2            0.8512           -1.0208j            1.3291           -0.1394\n",
      "AR.3            0.8512           +1.0208j            1.3291            0.1394\n",
      "AR.4           -1.2833           -0.6384j            1.4333           -0.4265\n",
      "AR.5           -1.2833           +0.6384j            1.4333            0.4265\n",
      "AR.6           -0.3550           -1.4386j            1.4818           -0.2885\n",
      "AR.7           -0.3550           +1.4386j            1.4818            0.2885\n",
      "-----------------------------------------------------------------------------\n"
     ]
    }
   ],
   "source": [
    "armod_sm = AutoReg(cpih['CPIHOSSL_logdelta'][1:end].values, lags = 7).fit()\n",
    "print(armod_sm.summary())"
   ]
  },
  {
   "cell_type": "code",
   "execution_count": 99,
   "id": "4eae0084-f1d3-4f66-9d69-bbc5c669ea35",
   "metadata": {},
   "outputs": [
    {
     "data": {
      "text/plain": [
       "array([0.00315348, 0.00338378, 0.00346203, 0.0037627 , 0.00356566,\n",
       "       0.00353887, 0.00335787, 0.00341812, 0.00345436, 0.00348065,\n",
       "       0.00351785, 0.00350046, 0.00349346, 0.0034754 , 0.00347908,\n",
       "       0.00348499])"
      ]
     },
     "execution_count": 99,
     "metadata": {},
     "output_type": "execute_result"
    }
   ],
   "source": [
    "k, n_train = b + 1, cpih['CPIHOSSL_logdelta'][1:end].values.shape[0]\n",
    "fcast = armod_sm.get_prediction(start = n_train, end = n_train + k - 1)\n",
    "fcast_mean = fcast.predicted_mean\n",
    "fcast_mean"
   ]
  },
  {
   "cell_type": "code",
   "execution_count": 101,
   "id": "4429a36f-b8b1-4070-a2ce-aa0a3e063005",
   "metadata": {},
   "outputs": [
    {
     "data": {
      "text/plain": [
       "(703,)"
      ]
     },
     "execution_count": 101,
     "metadata": {},
     "output_type": "execute_result"
    }
   ],
   "source": [
    "diffs_with_pred = np.append(cpih['CPIHOSSL_logdelta'][1:end].values, fcast_mean)\n",
    "diffs_with_pred.shape"
   ]
  },
  {
   "cell_type": "code",
   "execution_count": 103,
   "id": "262c4a6d-276b-48a9-8e4b-632c17b75422",
   "metadata": {},
   "outputs": [
    {
     "data": {
      "text/html": [
       "<div>\n",
       "<style scoped>\n",
       "    .dataframe tbody tr th:only-of-type {\n",
       "        vertical-align: middle;\n",
       "    }\n",
       "\n",
       "    .dataframe tbody tr th {\n",
       "        vertical-align: top;\n",
       "    }\n",
       "\n",
       "    .dataframe thead th {\n",
       "        text-align: right;\n",
       "    }\n",
       "</style>\n",
       "<table border=\"1\" class=\"dataframe\">\n",
       "  <thead>\n",
       "    <tr style=\"text-align: right;\">\n",
       "      <th></th>\n",
       "      <th>diffs</th>\n",
       "    </tr>\n",
       "    <tr>\n",
       "      <th>observation_date</th>\n",
       "      <th></th>\n",
       "    </tr>\n",
       "  </thead>\n",
       "  <tbody>\n",
       "    <tr>\n",
       "      <th>1967-02-01</th>\n",
       "      <td>0.000000</td>\n",
       "    </tr>\n",
       "    <tr>\n",
       "      <th>1967-03-01</th>\n",
       "      <td>0.000000</td>\n",
       "    </tr>\n",
       "    <tr>\n",
       "      <th>1967-04-01</th>\n",
       "      <td>0.003273</td>\n",
       "    </tr>\n",
       "    <tr>\n",
       "      <th>1967-05-01</th>\n",
       "      <td>0.003263</td>\n",
       "    </tr>\n",
       "    <tr>\n",
       "      <th>1967-06-01</th>\n",
       "      <td>0.000000</td>\n",
       "    </tr>\n",
       "    <tr>\n",
       "      <th>...</th>\n",
       "      <td>...</td>\n",
       "    </tr>\n",
       "    <tr>\n",
       "      <th>2025-04-01</th>\n",
       "      <td>0.003500</td>\n",
       "    </tr>\n",
       "    <tr>\n",
       "      <th>2025-05-01</th>\n",
       "      <td>0.003493</td>\n",
       "    </tr>\n",
       "    <tr>\n",
       "      <th>2025-06-01</th>\n",
       "      <td>0.003475</td>\n",
       "    </tr>\n",
       "    <tr>\n",
       "      <th>2025-07-01</th>\n",
       "      <td>0.003479</td>\n",
       "    </tr>\n",
       "    <tr>\n",
       "      <th>2025-08-01</th>\n",
       "      <td>0.003485</td>\n",
       "    </tr>\n",
       "  </tbody>\n",
       "</table>\n",
       "<p>703 rows × 1 columns</p>\n",
       "</div>"
      ],
      "text/plain": [
       "                     diffs\n",
       "observation_date          \n",
       "1967-02-01        0.000000\n",
       "1967-03-01        0.000000\n",
       "1967-04-01        0.003273\n",
       "1967-05-01        0.003263\n",
       "1967-06-01        0.000000\n",
       "...                    ...\n",
       "2025-04-01        0.003500\n",
       "2025-05-01        0.003493\n",
       "2025-06-01        0.003475\n",
       "2025-07-01        0.003479\n",
       "2025-08-01        0.003485\n",
       "\n",
       "[703 rows x 1 columns]"
      ]
     },
     "execution_count": 103,
     "metadata": {},
     "output_type": "execute_result"
    }
   ],
   "source": [
    "pred_df = pd.DataFrame({'observation_date': cpih['observation_date'][1:], 'diffs': diffs_with_pred}).set_index(['observation_date'])\n",
    "pred_df"
   ]
  },
  {
   "cell_type": "code",
   "execution_count": 105,
   "id": "8f47ab9a-6d02-4a8a-a576-f7312c9b69a8",
   "metadata": {},
   "outputs": [],
   "source": [
    "base = np.log(30.5)\n",
    "pred_df['pred_logcpi'] = pred_df['diffs'].cumsum() + base"
   ]
  },
  {
   "cell_type": "code",
   "execution_count": 107,
   "id": "c5549f0f-b2d0-4d4b-b076-54118dd57723",
   "metadata": {},
   "outputs": [
    {
     "data": {
      "text/plain": [
       "observation_date\n",
       "2024-11-01    0.003358\n",
       "2024-12-01    0.003418\n",
       "2025-01-01    0.003454\n",
       "2025-02-01    0.003481\n",
       "2025-03-01    0.003518\n",
       "2025-04-01    0.003500\n",
       "2025-05-01    0.003493\n",
       "2025-06-01    0.003475\n",
       "2025-07-01    0.003479\n",
       "2025-08-01    0.003485\n",
       "Name: diffs, dtype: float64"
      ]
     },
     "execution_count": 107,
     "metadata": {},
     "output_type": "execute_result"
    }
   ],
   "source": [
    "pred_df['diffs'][-10:]"
   ]
  },
  {
   "cell_type": "code",
   "execution_count": 109,
   "id": "4bd495ff-dc9d-4bbe-ac6a-d5ddf74c5b98",
   "metadata": {},
   "outputs": [
    {
     "data": {
      "text/html": [
       "<div>\n",
       "<style scoped>\n",
       "    .dataframe tbody tr th:only-of-type {\n",
       "        vertical-align: middle;\n",
       "    }\n",
       "\n",
       "    .dataframe tbody tr th {\n",
       "        vertical-align: top;\n",
       "    }\n",
       "\n",
       "    .dataframe thead th {\n",
       "        text-align: right;\n",
       "    }\n",
       "</style>\n",
       "<table border=\"1\" class=\"dataframe\">\n",
       "  <thead>\n",
       "    <tr style=\"text-align: right;\">\n",
       "      <th></th>\n",
       "      <th>observation_date</th>\n",
       "      <th>CPIHOSSL</th>\n",
       "      <th>CPIHOSSL_delta</th>\n",
       "      <th>CPIHOSSL_log</th>\n",
       "      <th>CPIHOSSL_logdelta</th>\n",
       "    </tr>\n",
       "  </thead>\n",
       "  <tbody>\n",
       "    <tr>\n",
       "      <th>694</th>\n",
       "      <td>2024-11-01</td>\n",
       "      <td>338.894</td>\n",
       "      <td>1.135</td>\n",
       "      <td>5.825687</td>\n",
       "      <td>0.003355</td>\n",
       "    </tr>\n",
       "    <tr>\n",
       "      <th>695</th>\n",
       "      <td>2024-12-01</td>\n",
       "      <td>339.853</td>\n",
       "      <td>0.959</td>\n",
       "      <td>5.828513</td>\n",
       "      <td>0.002826</td>\n",
       "    </tr>\n",
       "    <tr>\n",
       "      <th>696</th>\n",
       "      <td>2025-01-01</td>\n",
       "      <td>340.995</td>\n",
       "      <td>1.142</td>\n",
       "      <td>5.831868</td>\n",
       "      <td>0.003355</td>\n",
       "    </tr>\n",
       "    <tr>\n",
       "      <th>697</th>\n",
       "      <td>2025-02-01</td>\n",
       "      <td>342.320</td>\n",
       "      <td>1.325</td>\n",
       "      <td>5.835746</td>\n",
       "      <td>0.003878</td>\n",
       "    </tr>\n",
       "    <tr>\n",
       "      <th>698</th>\n",
       "      <td>2025-03-01</td>\n",
       "      <td>343.292</td>\n",
       "      <td>0.972</td>\n",
       "      <td>5.838581</td>\n",
       "      <td>0.002835</td>\n",
       "    </tr>\n",
       "    <tr>\n",
       "      <th>699</th>\n",
       "      <td>2025-04-01</td>\n",
       "      <td>344.919</td>\n",
       "      <td>1.627</td>\n",
       "      <td>5.843310</td>\n",
       "      <td>0.004728</td>\n",
       "    </tr>\n",
       "    <tr>\n",
       "      <th>700</th>\n",
       "      <td>2025-05-01</td>\n",
       "      <td>345.867</td>\n",
       "      <td>0.948</td>\n",
       "      <td>5.846054</td>\n",
       "      <td>0.002745</td>\n",
       "    </tr>\n",
       "    <tr>\n",
       "      <th>701</th>\n",
       "      <td>2025-06-01</td>\n",
       "      <td>346.957</td>\n",
       "      <td>1.090</td>\n",
       "      <td>5.849201</td>\n",
       "      <td>0.003147</td>\n",
       "    </tr>\n",
       "    <tr>\n",
       "      <th>702</th>\n",
       "      <td>2025-07-01</td>\n",
       "      <td>347.713</td>\n",
       "      <td>0.756</td>\n",
       "      <td>5.851377</td>\n",
       "      <td>0.002177</td>\n",
       "    </tr>\n",
       "    <tr>\n",
       "      <th>703</th>\n",
       "      <td>2025-08-01</td>\n",
       "      <td>348.967</td>\n",
       "      <td>1.254</td>\n",
       "      <td>5.854977</td>\n",
       "      <td>0.003600</td>\n",
       "    </tr>\n",
       "  </tbody>\n",
       "</table>\n",
       "</div>"
      ],
      "text/plain": [
       "    observation_date  CPIHOSSL  CPIHOSSL_delta  CPIHOSSL_log  \\\n",
       "694       2024-11-01   338.894           1.135      5.825687   \n",
       "695       2024-12-01   339.853           0.959      5.828513   \n",
       "696       2025-01-01   340.995           1.142      5.831868   \n",
       "697       2025-02-01   342.320           1.325      5.835746   \n",
       "698       2025-03-01   343.292           0.972      5.838581   \n",
       "699       2025-04-01   344.919           1.627      5.843310   \n",
       "700       2025-05-01   345.867           0.948      5.846054   \n",
       "701       2025-06-01   346.957           1.090      5.849201   \n",
       "702       2025-07-01   347.713           0.756      5.851377   \n",
       "703       2025-08-01   348.967           1.254      5.854977   \n",
       "\n",
       "     CPIHOSSL_logdelta  \n",
       "694           0.003355  \n",
       "695           0.002826  \n",
       "696           0.003355  \n",
       "697           0.003878  \n",
       "698           0.002835  \n",
       "699           0.004728  \n",
       "700           0.002745  \n",
       "701           0.003147  \n",
       "702           0.002177  \n",
       "703           0.003600  "
      ]
     },
     "execution_count": 109,
     "metadata": {},
     "output_type": "execute_result"
    }
   ],
   "source": [
    "cpih[-10:]"
   ]
  },
  {
   "cell_type": "code",
   "execution_count": 111,
   "id": "de6bcfab-bb0f-4258-8a49-a3d71020f309",
   "metadata": {},
   "outputs": [],
   "source": [
    "pred_df = pred_df.reset_index()"
   ]
  },
  {
   "cell_type": "code",
   "execution_count": 113,
   "id": "388ae6ce-a42c-4fb6-88d7-5c6da675a599",
   "metadata": {},
   "outputs": [],
   "source": [
    "pred_df['pred_cpi'] = np.exp(pred_df['pred_logcpi'])"
   ]
  },
  {
   "cell_type": "code",
   "execution_count": 115,
   "id": "f42107cf-df72-4d76-9274-228a8f11e005",
   "metadata": {},
   "outputs": [],
   "source": [
    "pred_df['diffs_real'] = pred_df['pred_cpi'].diff().values"
   ]
  },
  {
   "cell_type": "code",
   "execution_count": 117,
   "id": "5d2cddb4-0969-4f0a-b276-3ec404726a4c",
   "metadata": {},
   "outputs": [
    {
     "data": {
      "text/html": [
       "<div>\n",
       "<style scoped>\n",
       "    .dataframe tbody tr th:only-of-type {\n",
       "        vertical-align: middle;\n",
       "    }\n",
       "\n",
       "    .dataframe tbody tr th {\n",
       "        vertical-align: top;\n",
       "    }\n",
       "\n",
       "    .dataframe thead th {\n",
       "        text-align: right;\n",
       "    }\n",
       "</style>\n",
       "<table border=\"1\" class=\"dataframe\">\n",
       "  <thead>\n",
       "    <tr style=\"text-align: right;\">\n",
       "      <th></th>\n",
       "      <th>observation_date</th>\n",
       "      <th>diffs</th>\n",
       "      <th>pred_logcpi</th>\n",
       "      <th>pred_cpi</th>\n",
       "      <th>diffs_real</th>\n",
       "    </tr>\n",
       "  </thead>\n",
       "  <tbody>\n",
       "    <tr>\n",
       "      <th>0</th>\n",
       "      <td>1967-02-01</td>\n",
       "      <td>0.000000</td>\n",
       "      <td>3.417727</td>\n",
       "      <td>30.500000</td>\n",
       "      <td>NaN</td>\n",
       "    </tr>\n",
       "    <tr>\n",
       "      <th>1</th>\n",
       "      <td>1967-03-01</td>\n",
       "      <td>0.000000</td>\n",
       "      <td>3.417727</td>\n",
       "      <td>30.500000</td>\n",
       "      <td>0.000000</td>\n",
       "    </tr>\n",
       "    <tr>\n",
       "      <th>2</th>\n",
       "      <td>1967-04-01</td>\n",
       "      <td>0.003273</td>\n",
       "      <td>3.421000</td>\n",
       "      <td>30.600000</td>\n",
       "      <td>0.100000</td>\n",
       "    </tr>\n",
       "    <tr>\n",
       "      <th>3</th>\n",
       "      <td>1967-05-01</td>\n",
       "      <td>0.003263</td>\n",
       "      <td>3.424263</td>\n",
       "      <td>30.700000</td>\n",
       "      <td>0.100000</td>\n",
       "    </tr>\n",
       "    <tr>\n",
       "      <th>4</th>\n",
       "      <td>1967-06-01</td>\n",
       "      <td>0.000000</td>\n",
       "      <td>3.424263</td>\n",
       "      <td>30.700000</td>\n",
       "      <td>0.000000</td>\n",
       "    </tr>\n",
       "    <tr>\n",
       "      <th>...</th>\n",
       "      <td>...</td>\n",
       "      <td>...</td>\n",
       "      <td>...</td>\n",
       "      <td>...</td>\n",
       "      <td>...</td>\n",
       "    </tr>\n",
       "    <tr>\n",
       "      <th>698</th>\n",
       "      <td>2025-04-01</td>\n",
       "      <td>0.003500</td>\n",
       "      <td>5.845965</td>\n",
       "      <td>345.836266</td>\n",
       "      <td>1.208469</td>\n",
       "    </tr>\n",
       "    <tr>\n",
       "      <th>699</th>\n",
       "      <td>2025-05-01</td>\n",
       "      <td>0.003493</td>\n",
       "      <td>5.849459</td>\n",
       "      <td>347.046545</td>\n",
       "      <td>1.210280</td>\n",
       "    </tr>\n",
       "    <tr>\n",
       "      <th>700</th>\n",
       "      <td>2025-06-01</td>\n",
       "      <td>0.003475</td>\n",
       "      <td>5.852934</td>\n",
       "      <td>348.254770</td>\n",
       "      <td>1.208225</td>\n",
       "    </tr>\n",
       "    <tr>\n",
       "      <th>701</th>\n",
       "      <td>2025-07-01</td>\n",
       "      <td>0.003479</td>\n",
       "      <td>5.856413</td>\n",
       "      <td>349.468487</td>\n",
       "      <td>1.213717</td>\n",
       "    </tr>\n",
       "    <tr>\n",
       "      <th>702</th>\n",
       "      <td>2025-08-01</td>\n",
       "      <td>0.003485</td>\n",
       "      <td>5.859898</td>\n",
       "      <td>350.688507</td>\n",
       "      <td>1.220019</td>\n",
       "    </tr>\n",
       "  </tbody>\n",
       "</table>\n",
       "<p>703 rows × 5 columns</p>\n",
       "</div>"
      ],
      "text/plain": [
       "    observation_date     diffs  pred_logcpi    pred_cpi  diffs_real\n",
       "0         1967-02-01  0.000000     3.417727   30.500000         NaN\n",
       "1         1967-03-01  0.000000     3.417727   30.500000    0.000000\n",
       "2         1967-04-01  0.003273     3.421000   30.600000    0.100000\n",
       "3         1967-05-01  0.003263     3.424263   30.700000    0.100000\n",
       "4         1967-06-01  0.000000     3.424263   30.700000    0.000000\n",
       "..               ...       ...          ...         ...         ...\n",
       "698       2025-04-01  0.003500     5.845965  345.836266    1.208469\n",
       "699       2025-05-01  0.003493     5.849459  347.046545    1.210280\n",
       "700       2025-06-01  0.003475     5.852934  348.254770    1.208225\n",
       "701       2025-07-01  0.003479     5.856413  349.468487    1.213717\n",
       "702       2025-08-01  0.003485     5.859898  350.688507    1.220019\n",
       "\n",
       "[703 rows x 5 columns]"
      ]
     },
     "execution_count": 117,
     "metadata": {},
     "output_type": "execute_result"
    }
   ],
   "source": [
    "pred_df"
   ]
  },
  {
   "cell_type": "code",
   "execution_count": 119,
   "id": "9471dfd2-698a-4e75-9eb7-7de061b98c01",
   "metadata": {},
   "outputs": [],
   "source": [
    "pred_df_rec = pred_df[pred_df['observation_date'] >= pd.to_datetime('2020-01-01')]"
   ]
  },
  {
   "cell_type": "code",
   "execution_count": 121,
   "id": "4927c6d6-9ed1-4f51-8121-d91b379bcfb9",
   "metadata": {},
   "outputs": [
    {
     "data": {
      "image/png": "[encoded data removed]",
      "text/plain": [
       "<Figure size 640x480 with 1 Axes>"
      ]
     },
     "metadata": {},
     "output_type": "display_data"
    }
   ],
   "source": [
    "plt.plot(pred_df_rec['observation_date'], pred_df_rec['pred_cpi'], label='prediction', color='red')\n",
    "plt.plot(cpih_rec['observation_date'], cpih_rec['CPIHOSSL'], label='actual', color='blue')\n",
    "plt.xlabel('Date')\n",
    "plt.ylabel('CPIHOSSL')\n",
    "plt.title('CPIHOSSL - Fit vs Data')\n",
    "plt.xticks(rotation=45)\n",
    "plt.legend();"
   ]
  },
  {
   "cell_type": "code",
   "execution_count": 123,
   "id": "8ca639e7-87a3-40f1-869a-99f7ce095c36",
   "metadata": {},
   "outputs": [
    {
     "data": {
      "image/png": "[encoded data removed]",
      "text/plain": [
       "<Figure size 640x480 with 1 Axes>"
      ]
     },
     "metadata": {},
     "output_type": "display_data"
    }
   ],
   "source": [
    "plt.plot(pred_df_rec['observation_date'], pred_df_rec['diffs_real'], label='prediction', color='red')\n",
    "plt.plot(cpih_rec['observation_date'], cpih_rec['CPIHOSSL_delta'], label='actual', color='blue')\n",
    "plt.xlabel('Date')\n",
    "plt.ylabel('CPIHOSSL Monthly Change')\n",
    "plt.title('CPIHOSSL - Fit vs Data')\n",
    "plt.xticks(rotation=45)\n",
    "plt.legend();"
   ]
  },
  {
   "cell_type": "markdown",
   "id": "21540a53-bbbf-4fbd-a87d-a0eb5ead6ac6",
   "metadata": {},
   "source": [
    "### Future Predictions (AR Model)"
   ]
  },
  {
   "cell_type": "code",
   "execution_count": 129,
   "id": "caa84658-0bd8-4200-9640-3e4e102c094e",
   "metadata": {},
   "outputs": [
    {
     "name": "stdout",
     "output_type": "stream",
     "text": [
      "                            AutoReg Model Results                             \n",
      "==============================================================================\n",
      "Dep. Variable:                      y   No. Observations:                  703\n",
      "Model:                     AutoReg(7)   Log Likelihood                3315.032\n",
      "Method:               Conditional MLE   S.D. of innovations              0.002\n",
      "Date:                Sun, 14 Sep 2025   AIC                          -6612.065\n",
      "Time:                        17:37:12   BIC                          -6571.157\n",
      "Sample:                             7   HQIC                         -6596.247\n",
      "                                  703                                         \n",
      "==============================================================================\n",
      "                 coef    std err          z      P>|z|      [0.025      0.975]\n",
      "------------------------------------------------------------------------------\n",
      "const          0.0004      0.000      2.988      0.003       0.000       0.001\n",
      "y.L1           0.3512      0.038      9.336      0.000       0.277       0.425\n",
      "y.L2           0.1899      0.040      4.768      0.000       0.112       0.268\n",
      "y.L3           0.0613      0.040      1.520      0.129      -0.018       0.140\n",
      "y.L4           0.0234      0.040      0.579      0.562      -0.056       0.102\n",
      "y.L5           0.0741      0.040      1.839      0.066      -0.005       0.153\n",
      "y.L6           0.0654      0.040      1.646      0.100      -0.012       0.143\n",
      "y.L7           0.1202      0.038      3.205      0.001       0.047       0.194\n",
      "                                    Roots                                    \n",
      "=============================================================================\n",
      "                  Real          Imaginary           Modulus         Frequency\n",
      "-----------------------------------------------------------------------------\n",
      "AR.1            1.0407           -0.0000j            1.0407           -0.0000\n",
      "AR.2            0.8512           -1.0206j            1.3290           -0.1394\n",
      "AR.3            0.8512           +1.0206j            1.3290            0.1394\n",
      "AR.4           -1.2864           -0.6373j            1.4356           -0.4268\n",
      "AR.5           -1.2864           +0.6373j            1.4356            0.4268\n",
      "AR.6           -0.3572           -1.4383j            1.4820           -0.2887\n",
      "AR.7           -0.3572           +1.4383j            1.4820            0.2887\n",
      "-----------------------------------------------------------------------------\n"
     ]
    }
   ],
   "source": [
    "armod_sm = AutoReg(cpih['CPIHOSSL_logdelta'][1:].values, lags = 7).fit()\n",
    "print(armod_sm.summary())"
   ]
  },
  {
   "cell_type": "code",
   "execution_count": 151,
   "id": "4d9659e3-4f6b-451d-8755-44407ae43b1c",
   "metadata": {},
   "outputs": [
    {
     "data": {
      "text/plain": [
       "array([0.00333844, 0.00331838, 0.00345376, 0.00323076, 0.00326112,\n",
       "       0.00319439, 0.00331872, 0.00332364, 0.00333553, 0.00335063,\n",
       "       0.00333164, 0.00333718, 0.00333719, 0.00335359, 0.00336173,\n",
       "       0.00336885, 0.00337488, 0.00337731, 0.00338182, 0.00338608])"
      ]
     },
     "execution_count": 151,
     "metadata": {},
     "output_type": "execute_result"
    }
   ],
   "source": [
    "# Predictions for future\n",
    "b = 20\n",
    "k, n_train = b, cpih['CPIHOSSL_logdelta'][1:].values.shape[0]\n",
    "fcast = armod_sm.get_prediction(start = n_train, end = n_train + k - 1)\n",
    "fcast_mean = fcast.predicted_mean\n",
    "fcast_mean"
   ]
  },
  {
   "cell_type": "code",
   "execution_count": 204,
   "id": "25899f3d-446c-4d92-b058-c61178891674",
   "metadata": {},
   "outputs": [
    {
     "data": {
      "text/plain": [
       "array([[-0.00071176,  0.00738863],\n",
       "       [-0.00097435,  0.00761111],\n",
       "       [-0.00102254,  0.00793007],\n",
       "       [-0.00134816,  0.00780968],\n",
       "       [-0.00138066,  0.0079029 ],\n",
       "       [-0.00152666,  0.00791545],\n",
       "       [-0.00148852,  0.00812596],\n",
       "       [-0.0016372 ,  0.00828449],\n",
       "       [-0.00172476,  0.00839582],\n",
       "       [-0.00179456,  0.00849583],\n",
       "       [-0.00188204,  0.00854532],\n",
       "       [-0.00193414,  0.00860849],\n",
       "       [-0.00198962,  0.00866401],\n",
       "       [-0.00202624,  0.00873341],\n",
       "       [-0.00207138,  0.00879484],\n",
       "       [-0.00211151,  0.0088492 ],\n",
       "       [-0.00214813,  0.00889788],\n",
       "       [-0.00218381,  0.00893843],\n",
       "       [-0.00221371,  0.00897735],\n",
       "       [-0.00224126,  0.00901341]])"
      ]
     },
     "execution_count": 204,
     "metadata": {},
     "output_type": "execute_result"
    }
   ],
   "source": [
    "fcast.conf_int()"
   ]
  },
  {
   "cell_type": "code",
   "execution_count": 153,
   "id": "3f60c76d-cb09-4a91-b236-f3cfb17b84e0",
   "metadata": {},
   "outputs": [
    {
     "data": {
      "text/plain": [
       "DatetimeIndex(['2025-09-01', '2025-10-01', '2025-11-01', '2025-12-01',\n",
       "               '2026-01-01', '2026-02-01', '2026-03-01', '2026-04-01',\n",
       "               '2026-05-01', '2026-06-01', '2026-07-01', '2026-08-01',\n",
       "               '2026-09-01', '2026-10-01', '2026-11-01', '2026-12-01',\n",
       "               '2027-01-01', '2027-02-01', '2027-03-01', '2027-04-01'],\n",
       "              dtype='datetime64[ns]', freq='MS')"
      ]
     },
     "execution_count": 153,
     "metadata": {},
     "output_type": "execute_result"
    }
   ],
   "source": [
    "start_date = '2025-09-01'\n",
    "periods = b\n",
    "\n",
    "dates_fut = pd.date_range(start=start_date, periods=periods, freq='MS')\n",
    "dates_fut"
   ]
  },
  {
   "cell_type": "code",
   "execution_count": 214,
   "id": "fe7621f6-dc35-47b4-81ae-f34fd52659eb",
   "metadata": {},
   "outputs": [
    {
     "data": {
      "text/html": [
       "<div>\n",
       "<style scoped>\n",
       "    .dataframe tbody tr th:only-of-type {\n",
       "        vertical-align: middle;\n",
       "    }\n",
       "\n",
       "    .dataframe tbody tr th {\n",
       "        vertical-align: top;\n",
       "    }\n",
       "\n",
       "    .dataframe thead th {\n",
       "        text-align: right;\n",
       "    }\n",
       "</style>\n",
       "<table border=\"1\" class=\"dataframe\">\n",
       "  <thead>\n",
       "    <tr style=\"text-align: right;\">\n",
       "      <th></th>\n",
       "      <th>observation_date</th>\n",
       "      <th>lower_ci_log</th>\n",
       "      <th>upper_ci_log</th>\n",
       "    </tr>\n",
       "  </thead>\n",
       "  <tbody>\n",
       "    <tr>\n",
       "      <th>0</th>\n",
       "      <td>2025-09-01</td>\n",
       "      <td>-0.000712</td>\n",
       "      <td>0.007389</td>\n",
       "    </tr>\n",
       "    <tr>\n",
       "      <th>1</th>\n",
       "      <td>2025-10-01</td>\n",
       "      <td>-0.000974</td>\n",
       "      <td>0.007611</td>\n",
       "    </tr>\n",
       "    <tr>\n",
       "      <th>2</th>\n",
       "      <td>2025-11-01</td>\n",
       "      <td>-0.001023</td>\n",
       "      <td>0.007930</td>\n",
       "    </tr>\n",
       "    <tr>\n",
       "      <th>3</th>\n",
       "      <td>2025-12-01</td>\n",
       "      <td>-0.001348</td>\n",
       "      <td>0.007810</td>\n",
       "    </tr>\n",
       "    <tr>\n",
       "      <th>4</th>\n",
       "      <td>2026-01-01</td>\n",
       "      <td>-0.001381</td>\n",
       "      <td>0.007903</td>\n",
       "    </tr>\n",
       "    <tr>\n",
       "      <th>5</th>\n",
       "      <td>2026-02-01</td>\n",
       "      <td>-0.001527</td>\n",
       "      <td>0.007915</td>\n",
       "    </tr>\n",
       "    <tr>\n",
       "      <th>6</th>\n",
       "      <td>2026-03-01</td>\n",
       "      <td>-0.001489</td>\n",
       "      <td>0.008126</td>\n",
       "    </tr>\n",
       "    <tr>\n",
       "      <th>7</th>\n",
       "      <td>2026-04-01</td>\n",
       "      <td>-0.001637</td>\n",
       "      <td>0.008284</td>\n",
       "    </tr>\n",
       "    <tr>\n",
       "      <th>8</th>\n",
       "      <td>2026-05-01</td>\n",
       "      <td>-0.001725</td>\n",
       "      <td>0.008396</td>\n",
       "    </tr>\n",
       "    <tr>\n",
       "      <th>9</th>\n",
       "      <td>2026-06-01</td>\n",
       "      <td>-0.001795</td>\n",
       "      <td>0.008496</td>\n",
       "    </tr>\n",
       "    <tr>\n",
       "      <th>10</th>\n",
       "      <td>2026-07-01</td>\n",
       "      <td>-0.001882</td>\n",
       "      <td>0.008545</td>\n",
       "    </tr>\n",
       "    <tr>\n",
       "      <th>11</th>\n",
       "      <td>2026-08-01</td>\n",
       "      <td>-0.001934</td>\n",
       "      <td>0.008608</td>\n",
       "    </tr>\n",
       "    <tr>\n",
       "      <th>12</th>\n",
       "      <td>2026-09-01</td>\n",
       "      <td>-0.001990</td>\n",
       "      <td>0.008664</td>\n",
       "    </tr>\n",
       "    <tr>\n",
       "      <th>13</th>\n",
       "      <td>2026-10-01</td>\n",
       "      <td>-0.002026</td>\n",
       "      <td>0.008733</td>\n",
       "    </tr>\n",
       "    <tr>\n",
       "      <th>14</th>\n",
       "      <td>2026-11-01</td>\n",
       "      <td>-0.002071</td>\n",
       "      <td>0.008795</td>\n",
       "    </tr>\n",
       "    <tr>\n",
       "      <th>15</th>\n",
       "      <td>2026-12-01</td>\n",
       "      <td>-0.002112</td>\n",
       "      <td>0.008849</td>\n",
       "    </tr>\n",
       "    <tr>\n",
       "      <th>16</th>\n",
       "      <td>2027-01-01</td>\n",
       "      <td>-0.002148</td>\n",
       "      <td>0.008898</td>\n",
       "    </tr>\n",
       "    <tr>\n",
       "      <th>17</th>\n",
       "      <td>2027-02-01</td>\n",
       "      <td>-0.002184</td>\n",
       "      <td>0.008938</td>\n",
       "    </tr>\n",
       "    <tr>\n",
       "      <th>18</th>\n",
       "      <td>2027-03-01</td>\n",
       "      <td>-0.002214</td>\n",
       "      <td>0.008977</td>\n",
       "    </tr>\n",
       "    <tr>\n",
       "      <th>19</th>\n",
       "      <td>2027-04-01</td>\n",
       "      <td>-0.002241</td>\n",
       "      <td>0.009013</td>\n",
       "    </tr>\n",
       "  </tbody>\n",
       "</table>\n",
       "</div>"
      ],
      "text/plain": [
       "   observation_date  lower_ci_log  upper_ci_log\n",
       "0        2025-09-01     -0.000712      0.007389\n",
       "1        2025-10-01     -0.000974      0.007611\n",
       "2        2025-11-01     -0.001023      0.007930\n",
       "3        2025-12-01     -0.001348      0.007810\n",
       "4        2026-01-01     -0.001381      0.007903\n",
       "5        2026-02-01     -0.001527      0.007915\n",
       "6        2026-03-01     -0.001489      0.008126\n",
       "7        2026-04-01     -0.001637      0.008284\n",
       "8        2026-05-01     -0.001725      0.008396\n",
       "9        2026-06-01     -0.001795      0.008496\n",
       "10       2026-07-01     -0.001882      0.008545\n",
       "11       2026-08-01     -0.001934      0.008608\n",
       "12       2026-09-01     -0.001990      0.008664\n",
       "13       2026-10-01     -0.002026      0.008733\n",
       "14       2026-11-01     -0.002071      0.008795\n",
       "15       2026-12-01     -0.002112      0.008849\n",
       "16       2027-01-01     -0.002148      0.008898\n",
       "17       2027-02-01     -0.002184      0.008938\n",
       "18       2027-03-01     -0.002214      0.008977\n",
       "19       2027-04-01     -0.002241      0.009013"
      ]
     },
     "execution_count": 214,
     "metadata": {},
     "output_type": "execute_result"
    }
   ],
   "source": [
    "confint = pd.DataFrame(\n",
    "    {\n",
    "        'observation_date': dates_fut,\n",
    "        'lower_ci_log': fcast.conf_int()[:, 0],\n",
    "        'upper_ci_log': fcast.conf_int()[:, 1]\n",
    "    }\n",
    ")\n",
    "confint"
   ]
  },
  {
   "cell_type": "code",
   "execution_count": 216,
   "id": "6743c64d-d01c-4ed5-bea8-0e66e4a5e509",
   "metadata": {},
   "outputs": [],
   "source": [
    "# confint['lower_ci'] = np.exp(confint['lower_ci_log'])\n",
    "# confint['upper_ci'] = np.exp(confint['upper_ci_log'])\n",
    "# confint.head()"
   ]
  },
  {
   "cell_type": "code",
   "execution_count": 220,
   "id": "00fffa6c-4fee-4b8e-9987-35341ea7996e",
   "metadata": {},
   "outputs": [
    {
     "data": {
      "text/plain": [
       "5.854977361857813"
      ]
     },
     "execution_count": 220,
     "metadata": {},
     "output_type": "execute_result"
    }
   ],
   "source": [
    "latest = cpih['CPIHOSSL_log'].values[-1]\n",
    "latest"
   ]
  },
  {
   "cell_type": "code",
   "execution_count": 222,
   "id": "f28cd7e3-56c3-4308-94cf-078c1a16a62a",
   "metadata": {},
   "outputs": [
    {
     "data": {
      "text/html": [
       "<div>\n",
       "<style scoped>\n",
       "    .dataframe tbody tr th:only-of-type {\n",
       "        vertical-align: middle;\n",
       "    }\n",
       "\n",
       "    .dataframe tbody tr th {\n",
       "        vertical-align: top;\n",
       "    }\n",
       "\n",
       "    .dataframe thead th {\n",
       "        text-align: right;\n",
       "    }\n",
       "</style>\n",
       "<table border=\"1\" class=\"dataframe\">\n",
       "  <thead>\n",
       "    <tr style=\"text-align: right;\">\n",
       "      <th></th>\n",
       "      <th>observation_date</th>\n",
       "      <th>lower_ci_log</th>\n",
       "      <th>upper_ci_log</th>\n",
       "      <th>pred_lower_ci_log</th>\n",
       "      <th>pred_upper_ci_log</th>\n",
       "    </tr>\n",
       "  </thead>\n",
       "  <tbody>\n",
       "    <tr>\n",
       "      <th>0</th>\n",
       "      <td>2025-09-01</td>\n",
       "      <td>-0.000712</td>\n",
       "      <td>0.007389</td>\n",
       "      <td>5.854266</td>\n",
       "      <td>5.862366</td>\n",
       "    </tr>\n",
       "    <tr>\n",
       "      <th>1</th>\n",
       "      <td>2025-10-01</td>\n",
       "      <td>-0.000974</td>\n",
       "      <td>0.007611</td>\n",
       "      <td>5.853291</td>\n",
       "      <td>5.869977</td>\n",
       "    </tr>\n",
       "    <tr>\n",
       "      <th>2</th>\n",
       "      <td>2025-11-01</td>\n",
       "      <td>-0.001023</td>\n",
       "      <td>0.007930</td>\n",
       "      <td>5.852269</td>\n",
       "      <td>5.877907</td>\n",
       "    </tr>\n",
       "    <tr>\n",
       "      <th>3</th>\n",
       "      <td>2025-12-01</td>\n",
       "      <td>-0.001348</td>\n",
       "      <td>0.007810</td>\n",
       "      <td>5.850921</td>\n",
       "      <td>5.885717</td>\n",
       "    </tr>\n",
       "    <tr>\n",
       "      <th>4</th>\n",
       "      <td>2026-01-01</td>\n",
       "      <td>-0.001381</td>\n",
       "      <td>0.007903</td>\n",
       "      <td>5.849540</td>\n",
       "      <td>5.893620</td>\n",
       "    </tr>\n",
       "  </tbody>\n",
       "</table>\n",
       "</div>"
      ],
      "text/plain": [
       "  observation_date  lower_ci_log  upper_ci_log  pred_lower_ci_log  \\\n",
       "0       2025-09-01     -0.000712      0.007389           5.854266   \n",
       "1       2025-10-01     -0.000974      0.007611           5.853291   \n",
       "2       2025-11-01     -0.001023      0.007930           5.852269   \n",
       "3       2025-12-01     -0.001348      0.007810           5.850921   \n",
       "4       2026-01-01     -0.001381      0.007903           5.849540   \n",
       "\n",
       "   pred_upper_ci_log  \n",
       "0           5.862366  \n",
       "1           5.869977  \n",
       "2           5.877907  \n",
       "3           5.885717  \n",
       "4           5.893620  "
      ]
     },
     "execution_count": 222,
     "metadata": {},
     "output_type": "execute_result"
    }
   ],
   "source": [
    "confint['pred_lower_ci_log'] = confint['lower_ci_log'].cumsum() + latest\n",
    "confint['pred_upper_ci_log'] = confint['upper_ci_log'].cumsum() + latest\n",
    "confint.head()"
   ]
  },
  {
   "cell_type": "code",
   "execution_count": 224,
   "id": "14425fdf-3b94-47c9-b50f-6112783fe478",
   "metadata": {},
   "outputs": [
    {
     "data": {
      "text/html": [
       "<div>\n",
       "<style scoped>\n",
       "    .dataframe tbody tr th:only-of-type {\n",
       "        vertical-align: middle;\n",
       "    }\n",
       "\n",
       "    .dataframe tbody tr th {\n",
       "        vertical-align: top;\n",
       "    }\n",
       "\n",
       "    .dataframe thead th {\n",
       "        text-align: right;\n",
       "    }\n",
       "</style>\n",
       "<table border=\"1\" class=\"dataframe\">\n",
       "  <thead>\n",
       "    <tr style=\"text-align: right;\">\n",
       "      <th></th>\n",
       "      <th>observation_date</th>\n",
       "      <th>lower_ci_log</th>\n",
       "      <th>upper_ci_log</th>\n",
       "      <th>pred_lower_ci_log</th>\n",
       "      <th>pred_upper_ci_log</th>\n",
       "      <th>pred_lower_ci</th>\n",
       "      <th>pred_upper_ci</th>\n",
       "    </tr>\n",
       "  </thead>\n",
       "  <tbody>\n",
       "    <tr>\n",
       "      <th>0</th>\n",
       "      <td>2025-09-01</td>\n",
       "      <td>-0.000712</td>\n",
       "      <td>0.007389</td>\n",
       "      <td>5.854266</td>\n",
       "      <td>5.862366</td>\n",
       "      <td>348.718708</td>\n",
       "      <td>351.554938</td>\n",
       "    </tr>\n",
       "    <tr>\n",
       "      <th>1</th>\n",
       "      <td>2025-10-01</td>\n",
       "      <td>-0.000974</td>\n",
       "      <td>0.007611</td>\n",
       "      <td>5.853291</td>\n",
       "      <td>5.869977</td>\n",
       "      <td>348.379099</td>\n",
       "      <td>354.240870</td>\n",
       "    </tr>\n",
       "    <tr>\n",
       "      <th>2</th>\n",
       "      <td>2025-11-01</td>\n",
       "      <td>-0.001023</td>\n",
       "      <td>0.007930</td>\n",
       "      <td>5.852269</td>\n",
       "      <td>5.877907</td>\n",
       "      <td>348.023049</td>\n",
       "      <td>357.061192</td>\n",
       "    </tr>\n",
       "    <tr>\n",
       "      <th>3</th>\n",
       "      <td>2025-12-01</td>\n",
       "      <td>-0.001348</td>\n",
       "      <td>0.007810</td>\n",
       "      <td>5.850921</td>\n",
       "      <td>5.885717</td>\n",
       "      <td>347.554174</td>\n",
       "      <td>359.860642</td>\n",
       "    </tr>\n",
       "    <tr>\n",
       "      <th>4</th>\n",
       "      <td>2026-01-01</td>\n",
       "      <td>-0.001381</td>\n",
       "      <td>0.007903</td>\n",
       "      <td>5.849540</td>\n",
       "      <td>5.893620</td>\n",
       "      <td>347.074651</td>\n",
       "      <td>362.715853</td>\n",
       "    </tr>\n",
       "  </tbody>\n",
       "</table>\n",
       "</div>"
      ],
      "text/plain": [
       "  observation_date  lower_ci_log  upper_ci_log  pred_lower_ci_log  \\\n",
       "0       2025-09-01     -0.000712      0.007389           5.854266   \n",
       "1       2025-10-01     -0.000974      0.007611           5.853291   \n",
       "2       2025-11-01     -0.001023      0.007930           5.852269   \n",
       "3       2025-12-01     -0.001348      0.007810           5.850921   \n",
       "4       2026-01-01     -0.001381      0.007903           5.849540   \n",
       "\n",
       "   pred_upper_ci_log  pred_lower_ci  pred_upper_ci  \n",
       "0           5.862366     348.718708     351.554938  \n",
       "1           5.869977     348.379099     354.240870  \n",
       "2           5.877907     348.023049     357.061192  \n",
       "3           5.885717     347.554174     359.860642  \n",
       "4           5.893620     347.074651     362.715853  "
      ]
     },
     "execution_count": 224,
     "metadata": {},
     "output_type": "execute_result"
    }
   ],
   "source": [
    "confint['pred_lower_ci'] = np.exp(confint['pred_lower_ci_log'])\n",
    "confint['pred_upper_ci'] = np.exp(confint['pred_upper_ci_log'])\n",
    "confint.head()"
   ]
  },
  {
   "cell_type": "code",
   "execution_count": 155,
   "id": "798a8f6b-f43d-405b-b9c8-fb978b6db905",
   "metadata": {},
   "outputs": [
    {
     "data": {
      "text/plain": [
       "(723,)"
      ]
     },
     "execution_count": 155,
     "metadata": {},
     "output_type": "execute_result"
    }
   ],
   "source": [
    "diffs_with_pred = np.append(cpih['CPIHOSSL_logdelta'][1:].values, fcast_mean)\n",
    "diffs_with_pred.shape"
   ]
  },
  {
   "cell_type": "code",
   "execution_count": 157,
   "id": "ce4f3ecc-5772-4166-87cd-f50efdb73b83",
   "metadata": {},
   "outputs": [
    {
     "data": {
      "text/html": [
       "<div>\n",
       "<style scoped>\n",
       "    .dataframe tbody tr th:only-of-type {\n",
       "        vertical-align: middle;\n",
       "    }\n",
       "\n",
       "    .dataframe tbody tr th {\n",
       "        vertical-align: top;\n",
       "    }\n",
       "\n",
       "    .dataframe thead th {\n",
       "        text-align: right;\n",
       "    }\n",
       "</style>\n",
       "<table border=\"1\" class=\"dataframe\">\n",
       "  <thead>\n",
       "    <tr style=\"text-align: right;\">\n",
       "      <th></th>\n",
       "      <th>diffs</th>\n",
       "    </tr>\n",
       "    <tr>\n",
       "      <th>observation_date</th>\n",
       "      <th></th>\n",
       "    </tr>\n",
       "  </thead>\n",
       "  <tbody>\n",
       "    <tr>\n",
       "      <th>1967-02-01</th>\n",
       "      <td>0.000000</td>\n",
       "    </tr>\n",
       "    <tr>\n",
       "      <th>1967-03-01</th>\n",
       "      <td>0.000000</td>\n",
       "    </tr>\n",
       "    <tr>\n",
       "      <th>1967-04-01</th>\n",
       "      <td>0.003273</td>\n",
       "    </tr>\n",
       "    <tr>\n",
       "      <th>1967-05-01</th>\n",
       "      <td>0.003263</td>\n",
       "    </tr>\n",
       "    <tr>\n",
       "      <th>1967-06-01</th>\n",
       "      <td>0.000000</td>\n",
       "    </tr>\n",
       "    <tr>\n",
       "      <th>...</th>\n",
       "      <td>...</td>\n",
       "    </tr>\n",
       "    <tr>\n",
       "      <th>2026-12-01</th>\n",
       "      <td>0.003369</td>\n",
       "    </tr>\n",
       "    <tr>\n",
       "      <th>2027-01-01</th>\n",
       "      <td>0.003375</td>\n",
       "    </tr>\n",
       "    <tr>\n",
       "      <th>2027-02-01</th>\n",
       "      <td>0.003377</td>\n",
       "    </tr>\n",
       "    <tr>\n",
       "      <th>2027-03-01</th>\n",
       "      <td>0.003382</td>\n",
       "    </tr>\n",
       "    <tr>\n",
       "      <th>2027-04-01</th>\n",
       "      <td>0.003386</td>\n",
       "    </tr>\n",
       "  </tbody>\n",
       "</table>\n",
       "<p>723 rows × 1 columns</p>\n",
       "</div>"
      ],
      "text/plain": [
       "                     diffs\n",
       "observation_date          \n",
       "1967-02-01        0.000000\n",
       "1967-03-01        0.000000\n",
       "1967-04-01        0.003273\n",
       "1967-05-01        0.003263\n",
       "1967-06-01        0.000000\n",
       "...                    ...\n",
       "2026-12-01        0.003369\n",
       "2027-01-01        0.003375\n",
       "2027-02-01        0.003377\n",
       "2027-03-01        0.003382\n",
       "2027-04-01        0.003386\n",
       "\n",
       "[723 rows x 1 columns]"
      ]
     },
     "execution_count": 157,
     "metadata": {},
     "output_type": "execute_result"
    }
   ],
   "source": [
    "pred_df = pd.DataFrame({'observation_date': np.append(cpih['observation_date'][1:].values, dates_fut), 'diffs': diffs_with_pred}).set_index(['observation_date'])\n",
    "pred_df"
   ]
  },
  {
   "cell_type": "code",
   "execution_count": 159,
   "id": "e1fca515-e6d7-4c98-b10c-4a5383df5731",
   "metadata": {},
   "outputs": [],
   "source": [
    "base = np.log(30.5)\n",
    "pred_df['pred_logcpi'] = pred_df['diffs'].cumsum() + base"
   ]
  },
  {
   "cell_type": "code",
   "execution_count": 161,
   "id": "ef3c15a7-22e9-4071-9635-0fea139f41bd",
   "metadata": {},
   "outputs": [],
   "source": [
    "pred_df = pred_df.reset_index()\n",
    "pred_df['pred_cpi'] = np.exp(pred_df['pred_logcpi'])\n",
    "pred_df['diffs_real'] = pred_df['pred_cpi'].diff().values"
   ]
  },
  {
   "cell_type": "code",
   "execution_count": 163,
   "id": "7e6e84ba-70ae-42b2-b676-5aa03b27eed6",
   "metadata": {},
   "outputs": [
    {
     "data": {
      "text/html": [
       "<div>\n",
       "<style scoped>\n",
       "    .dataframe tbody tr th:only-of-type {\n",
       "        vertical-align: middle;\n",
       "    }\n",
       "\n",
       "    .dataframe tbody tr th {\n",
       "        vertical-align: top;\n",
       "    }\n",
       "\n",
       "    .dataframe thead th {\n",
       "        text-align: right;\n",
       "    }\n",
       "</style>\n",
       "<table border=\"1\" class=\"dataframe\">\n",
       "  <thead>\n",
       "    <tr style=\"text-align: right;\">\n",
       "      <th></th>\n",
       "      <th>observation_date</th>\n",
       "      <th>diffs</th>\n",
       "      <th>pred_logcpi</th>\n",
       "      <th>pred_cpi</th>\n",
       "      <th>diffs_real</th>\n",
       "    </tr>\n",
       "  </thead>\n",
       "  <tbody>\n",
       "    <tr>\n",
       "      <th>0</th>\n",
       "      <td>1967-02-01</td>\n",
       "      <td>0.000000</td>\n",
       "      <td>3.417727</td>\n",
       "      <td>30.500000</td>\n",
       "      <td>NaN</td>\n",
       "    </tr>\n",
       "    <tr>\n",
       "      <th>1</th>\n",
       "      <td>1967-03-01</td>\n",
       "      <td>0.000000</td>\n",
       "      <td>3.417727</td>\n",
       "      <td>30.500000</td>\n",
       "      <td>0.000000</td>\n",
       "    </tr>\n",
       "    <tr>\n",
       "      <th>2</th>\n",
       "      <td>1967-04-01</td>\n",
       "      <td>0.003273</td>\n",
       "      <td>3.421000</td>\n",
       "      <td>30.600000</td>\n",
       "      <td>0.100000</td>\n",
       "    </tr>\n",
       "    <tr>\n",
       "      <th>3</th>\n",
       "      <td>1967-05-01</td>\n",
       "      <td>0.003263</td>\n",
       "      <td>3.424263</td>\n",
       "      <td>30.700000</td>\n",
       "      <td>0.100000</td>\n",
       "    </tr>\n",
       "    <tr>\n",
       "      <th>4</th>\n",
       "      <td>1967-06-01</td>\n",
       "      <td>0.000000</td>\n",
       "      <td>3.424263</td>\n",
       "      <td>30.700000</td>\n",
       "      <td>0.000000</td>\n",
       "    </tr>\n",
       "    <tr>\n",
       "      <th>...</th>\n",
       "      <td>...</td>\n",
       "      <td>...</td>\n",
       "      <td>...</td>\n",
       "      <td>...</td>\n",
       "      <td>...</td>\n",
       "    </tr>\n",
       "    <tr>\n",
       "      <th>718</th>\n",
       "      <td>2026-12-01</td>\n",
       "      <td>0.003369</td>\n",
       "      <td>5.908193</td>\n",
       "      <td>368.040473</td>\n",
       "      <td>1.237785</td>\n",
       "    </tr>\n",
       "    <tr>\n",
       "      <th>719</th>\n",
       "      <td>2027-01-01</td>\n",
       "      <td>0.003375</td>\n",
       "      <td>5.911568</td>\n",
       "      <td>369.284664</td>\n",
       "      <td>1.244191</td>\n",
       "    </tr>\n",
       "    <tr>\n",
       "      <th>720</th>\n",
       "      <td>2027-02-01</td>\n",
       "      <td>0.003377</td>\n",
       "      <td>5.914945</td>\n",
       "      <td>370.533962</td>\n",
       "      <td>1.249298</td>\n",
       "    </tr>\n",
       "    <tr>\n",
       "      <th>721</th>\n",
       "      <td>2027-03-01</td>\n",
       "      <td>0.003382</td>\n",
       "      <td>5.918327</td>\n",
       "      <td>371.789162</td>\n",
       "      <td>1.255200</td>\n",
       "    </tr>\n",
       "    <tr>\n",
       "      <th>722</th>\n",
       "      <td>2027-04-01</td>\n",
       "      <td>0.003386</td>\n",
       "      <td>5.921713</td>\n",
       "      <td>373.050203</td>\n",
       "      <td>1.261041</td>\n",
       "    </tr>\n",
       "  </tbody>\n",
       "</table>\n",
       "<p>723 rows × 5 columns</p>\n",
       "</div>"
      ],
      "text/plain": [
       "    observation_date     diffs  pred_logcpi    pred_cpi  diffs_real\n",
       "0         1967-02-01  0.000000     3.417727   30.500000         NaN\n",
       "1         1967-03-01  0.000000     3.417727   30.500000    0.000000\n",
       "2         1967-04-01  0.003273     3.421000   30.600000    0.100000\n",
       "3         1967-05-01  0.003263     3.424263   30.700000    0.100000\n",
       "4         1967-06-01  0.000000     3.424263   30.700000    0.000000\n",
       "..               ...       ...          ...         ...         ...\n",
       "718       2026-12-01  0.003369     5.908193  368.040473    1.237785\n",
       "719       2027-01-01  0.003375     5.911568  369.284664    1.244191\n",
       "720       2027-02-01  0.003377     5.914945  370.533962    1.249298\n",
       "721       2027-03-01  0.003382     5.918327  371.789162    1.255200\n",
       "722       2027-04-01  0.003386     5.921713  373.050203    1.261041\n",
       "\n",
       "[723 rows x 5 columns]"
      ]
     },
     "execution_count": 163,
     "metadata": {},
     "output_type": "execute_result"
    }
   ],
   "source": [
    "pred_df"
   ]
  },
  {
   "cell_type": "code",
   "execution_count": 165,
   "id": "4d24bd42-02f6-4b7c-bc53-195b4ca3a616",
   "metadata": {},
   "outputs": [],
   "source": [
    "pred_df_rec = pred_df[pred_df['observation_date'] >= pd.to_datetime('2020-01-01')]"
   ]
  },
  {
   "cell_type": "code",
   "execution_count": 226,
   "id": "60ab5d8d-7580-4304-9fb1-754602081ef6",
   "metadata": {},
   "outputs": [
    {
     "data": {
      "image/png": "[encoded data removed]",
      "text/plain": [
       "<Figure size 640x480 with 1 Axes>"
      ]
     },
     "metadata": {},
     "output_type": "display_data"
    }
   ],
   "source": [
    "plt.plot(pred_df_rec['observation_date'], pred_df_rec['pred_cpi'], label='Future prediction', color='red')\n",
    "plt.plot(cpih_rec['observation_date'], cpih_rec['CPIHOSSL'], label='CPIHOSSL (past data)', color='blue')\n",
    "plt.fill_between(\n",
    "    confint['observation_date'],\n",
    "    confint['pred_lower_ci'],\n",
    "    confint['pred_upper_ci'],\n",
    "    color='k', alpha=0.15\n",
    ")\n",
    "plt.axvline(x=pd.to_datetime('2025-08-01'), color='black', linestyle='--', linewidth=0.7)\n",
    "plt.xlabel('Date')\n",
    "plt.ylabel('CPIHOSSL')\n",
    "plt.title('Consumer Price Index for All Urban Consumers: \\nHousing in U.S. City Average')\n",
    "plt.xticks(rotation=45)\n",
    "plt.legend();"
   ]
  },
  {
   "cell_type": "code",
   "execution_count": 173,
   "id": "4df14ec9-7742-4471-b830-65a0df34c247",
   "metadata": {},
   "outputs": [
    {
     "data": {
      "image/png": "[encoded data removed]",
      "text/plain": [
       "<Figure size 640x480 with 1 Axes>"
      ]
     },
     "metadata": {},
     "output_type": "display_data"
    }
   ],
   "source": [
    "plt.plot(pred_df_rec['observation_date'], pred_df_rec['diffs_real'], label='Future prediction', color='red')\n",
    "plt.plot(cpih_rec['observation_date'], cpih_rec['CPIHOSSL_delta'], label='CPIHOSSL (past data)', color='blue')\n",
    "plt.axvline(x=pd.to_datetime('2025-08-01'), color='black', linestyle='--', linewidth=0.7)\n",
    "plt.xlabel('Date')\n",
    "plt.ylabel('CPIHOSSL Monthly Change')\n",
    "plt.title('Consumer Price Index for All Urban Consumers: \\nHousing in U.S. City Average (Monthly Change)')\n",
    "plt.xticks(rotation=45)\n",
    "plt.legend();"
   ]
  },
  {
   "cell_type": "markdown",
   "id": "e3bdda47-0136-4cc0-82aa-d6388ad786b8",
   "metadata": {},
   "source": [
    "### Fitting ARIMA Model"
   ]
  },
  {
   "cell_type": "code",
   "execution_count": 230,
   "id": "58b25291-5dd8-4a34-a0bd-c1aa11931031",
   "metadata": {},
   "outputs": [
    {
     "data": {
      "text/html": [
       "<table class=\"simpletable\">\n",
       "<caption>SARIMAX Results</caption>\n",
       "<tr>\n",
       "  <th>Dep. Variable:</th>     <td>CPIHOSSL_log</td>   <th>  No. Observations:  </th>    <td>704</td>   \n",
       "</tr>\n",
       "<tr>\n",
       "  <th>Model:</th>            <td>ARIMA(2, 1, 13)</td> <th>  Log Likelihood     </th> <td>3350.979</td> \n",
       "</tr>\n",
       "<tr>\n",
       "  <th>Date:</th>            <td>Sun, 14 Sep 2025</td> <th>  AIC                </th> <td>-6669.959</td>\n",
       "</tr>\n",
       "<tr>\n",
       "  <th>Time:</th>                <td>19:06:15</td>     <th>  BIC                </th> <td>-6597.073</td>\n",
       "</tr>\n",
       "<tr>\n",
       "  <th>Sample:</th>                  <td>0</td>        <th>  HQIC               </th> <td>-6641.790</td>\n",
       "</tr>\n",
       "<tr>\n",
       "  <th></th>                      <td> - 704</td>      <th>                     </th>     <td> </td>    \n",
       "</tr>\n",
       "<tr>\n",
       "  <th>Covariance Type:</th>        <td>opg</td>       <th>                     </th>     <td> </td>    \n",
       "</tr>\n",
       "</table>\n",
       "<table class=\"simpletable\">\n",
       "<tr>\n",
       "     <td></td>       <th>coef</th>     <th>std err</th>      <th>z</th>      <th>P>|z|</th>  <th>[0.025</th>    <th>0.975]</th>  \n",
       "</tr>\n",
       "<tr>\n",
       "  <th>ar.L1</th>  <td>    0.5549</td> <td>    0.460</td> <td>    1.207</td> <td> 0.228</td> <td>   -0.346</td> <td>    1.456</td>\n",
       "</tr>\n",
       "<tr>\n",
       "  <th>ar.L2</th>  <td>    0.4292</td> <td>    0.456</td> <td>    0.942</td> <td> 0.346</td> <td>   -0.464</td> <td>    1.323</td>\n",
       "</tr>\n",
       "<tr>\n",
       "  <th>ma.L1</th>  <td>   -0.1909</td> <td>    0.462</td> <td>   -0.413</td> <td> 0.679</td> <td>   -1.096</td> <td>    0.715</td>\n",
       "</tr>\n",
       "<tr>\n",
       "  <th>ma.L2</th>  <td>   -0.2977</td> <td>    0.289</td> <td>   -1.030</td> <td> 0.303</td> <td>   -0.864</td> <td>    0.269</td>\n",
       "</tr>\n",
       "<tr>\n",
       "  <th>ma.L3</th>  <td>   -0.0884</td> <td>    0.031</td> <td>   -2.855</td> <td> 0.004</td> <td>   -0.149</td> <td>   -0.028</td>\n",
       "</tr>\n",
       "<tr>\n",
       "  <th>ma.L4</th>  <td>   -0.0970</td> <td>    0.044</td> <td>   -2.215</td> <td> 0.027</td> <td>   -0.183</td> <td>   -0.011</td>\n",
       "</tr>\n",
       "<tr>\n",
       "  <th>ma.L5</th>  <td>   -0.0091</td> <td>    0.046</td> <td>   -0.198</td> <td> 0.843</td> <td>   -0.100</td> <td>    0.081</td>\n",
       "</tr>\n",
       "<tr>\n",
       "  <th>ma.L6</th>  <td>    0.0265</td> <td>    0.031</td> <td>    0.854</td> <td> 0.393</td> <td>   -0.034</td> <td>    0.087</td>\n",
       "</tr>\n",
       "<tr>\n",
       "  <th>ma.L7</th>  <td>    0.0578</td> <td>    0.034</td> <td>    1.688</td> <td> 0.091</td> <td>   -0.009</td> <td>    0.125</td>\n",
       "</tr>\n",
       "<tr>\n",
       "  <th>ma.L8</th>  <td>    0.0091</td> <td>    0.038</td> <td>    0.237</td> <td> 0.813</td> <td>   -0.066</td> <td>    0.084</td>\n",
       "</tr>\n",
       "<tr>\n",
       "  <th>ma.L9</th>  <td>    0.0413</td> <td>    0.031</td> <td>    1.344</td> <td> 0.179</td> <td>   -0.019</td> <td>    0.102</td>\n",
       "</tr>\n",
       "<tr>\n",
       "  <th>ma.L10</th> <td>   -0.0089</td> <td>    0.040</td> <td>   -0.219</td> <td> 0.827</td> <td>   -0.088</td> <td>    0.070</td>\n",
       "</tr>\n",
       "<tr>\n",
       "  <th>ma.L11</th> <td>    0.0334</td> <td>    0.036</td> <td>    0.933</td> <td> 0.351</td> <td>   -0.037</td> <td>    0.104</td>\n",
       "</tr>\n",
       "<tr>\n",
       "  <th>ma.L12</th> <td>   -0.1081</td> <td>    0.041</td> <td>   -2.655</td> <td> 0.008</td> <td>   -0.188</td> <td>   -0.028</td>\n",
       "</tr>\n",
       "<tr>\n",
       "  <th>ma.L13</th> <td>    0.0090</td> <td>    0.069</td> <td>    0.130</td> <td> 0.897</td> <td>   -0.127</td> <td>    0.145</td>\n",
       "</tr>\n",
       "<tr>\n",
       "  <th>sigma2</th> <td> 4.224e-06</td> <td> 1.07e-07</td> <td>   39.411</td> <td> 0.000</td> <td> 4.01e-06</td> <td> 4.43e-06</td>\n",
       "</tr>\n",
       "</table>\n",
       "<table class=\"simpletable\">\n",
       "<tr>\n",
       "  <th>Ljung-Box (L1) (Q):</th>     <td>0.08</td> <th>  Jarque-Bera (JB):  </th> <td>9304.63</td>\n",
       "</tr>\n",
       "<tr>\n",
       "  <th>Prob(Q):</th>                <td>0.78</td> <th>  Prob(JB):          </th>  <td>0.00</td>  \n",
       "</tr>\n",
       "<tr>\n",
       "  <th>Heteroskedasticity (H):</th> <td>0.13</td> <th>  Skew:              </th>  <td>-1.58</td> \n",
       "</tr>\n",
       "<tr>\n",
       "  <th>Prob(H) (two-sided):</th>    <td>0.00</td> <th>  Kurtosis:          </th>  <td>20.54</td> \n",
       "</tr>\n",
       "</table><br/><br/>Warnings:<br/>[1] Covariance matrix calculated using the outer product of gradients (complex-step)."
      ],
      "text/latex": [
       "\\begin{center}\n",
       "\\begin{tabular}{lclc}\n",
       "\\toprule\n",
       "\\textbf{Dep. Variable:}          &  CPIHOSSL\\_log   & \\textbf{  No. Observations:  } &    704      \\\\\n",
       "\\textbf{Model:}                  & ARIMA(2, 1, 13)  & \\textbf{  Log Likelihood     } &  3350.979   \\\\\n",
       "\\textbf{Date:}                   & Sun, 14 Sep 2025 & \\textbf{  AIC                } & -6669.959   \\\\\n",
       "\\textbf{Time:}                   &     19:06:15     & \\textbf{  BIC                } & -6597.073   \\\\\n",
       "\\textbf{Sample:}                 &        0         & \\textbf{  HQIC               } & -6641.790   \\\\\n",
       "\\textbf{}                        &       - 704      & \\textbf{                     } &             \\\\\n",
       "\\textbf{Covariance Type:}        &       opg        & \\textbf{                     } &             \\\\\n",
       "\\bottomrule\n",
       "\\end{tabular}\n",
       "\\begin{tabular}{lcccccc}\n",
       "                & \\textbf{coef} & \\textbf{std err} & \\textbf{z} & \\textbf{P$> |$z$|$} & \\textbf{[0.025} & \\textbf{0.975]}  \\\\\n",
       "\\midrule\n",
       "\\textbf{ar.L1}  &       0.5549  &        0.460     &     1.207  &         0.228        &       -0.346    &        1.456     \\\\\n",
       "\\textbf{ar.L2}  &       0.4292  &        0.456     &     0.942  &         0.346        &       -0.464    &        1.323     \\\\\n",
       "\\textbf{ma.L1}  &      -0.1909  &        0.462     &    -0.413  &         0.679        &       -1.096    &        0.715     \\\\\n",
       "\\textbf{ma.L2}  &      -0.2977  &        0.289     &    -1.030  &         0.303        &       -0.864    &        0.269     \\\\\n",
       "\\textbf{ma.L3}  &      -0.0884  &        0.031     &    -2.855  &         0.004        &       -0.149    &       -0.028     \\\\\n",
       "\\textbf{ma.L4}  &      -0.0970  &        0.044     &    -2.215  &         0.027        &       -0.183    &       -0.011     \\\\\n",
       "\\textbf{ma.L5}  &      -0.0091  &        0.046     &    -0.198  &         0.843        &       -0.100    &        0.081     \\\\\n",
       "\\textbf{ma.L6}  &       0.0265  &        0.031     &     0.854  &         0.393        &       -0.034    &        0.087     \\\\\n",
       "\\textbf{ma.L7}  &       0.0578  &        0.034     &     1.688  &         0.091        &       -0.009    &        0.125     \\\\\n",
       "\\textbf{ma.L8}  &       0.0091  &        0.038     &     0.237  &         0.813        &       -0.066    &        0.084     \\\\\n",
       "\\textbf{ma.L9}  &       0.0413  &        0.031     &     1.344  &         0.179        &       -0.019    &        0.102     \\\\\n",
       "\\textbf{ma.L10} &      -0.0089  &        0.040     &    -0.219  &         0.827        &       -0.088    &        0.070     \\\\\n",
       "\\textbf{ma.L11} &       0.0334  &        0.036     &     0.933  &         0.351        &       -0.037    &        0.104     \\\\\n",
       "\\textbf{ma.L12} &      -0.1081  &        0.041     &    -2.655  &         0.008        &       -0.188    &       -0.028     \\\\\n",
       "\\textbf{ma.L13} &       0.0090  &        0.069     &     0.130  &         0.897        &       -0.127    &        0.145     \\\\\n",
       "\\textbf{sigma2} &    4.224e-06  &     1.07e-07     &    39.411  &         0.000        &     4.01e-06    &     4.43e-06     \\\\\n",
       "\\bottomrule\n",
       "\\end{tabular}\n",
       "\\begin{tabular}{lclc}\n",
       "\\textbf{Ljung-Box (L1) (Q):}     & 0.08 & \\textbf{  Jarque-Bera (JB):  } & 9304.63  \\\\\n",
       "\\textbf{Prob(Q):}                & 0.78 & \\textbf{  Prob(JB):          } &   0.00   \\\\\n",
       "\\textbf{Heteroskedasticity (H):} & 0.13 & \\textbf{  Skew:              } &  -1.58   \\\\\n",
       "\\textbf{Prob(H) (two-sided):}    & 0.00 & \\textbf{  Kurtosis:          } &  20.54   \\\\\n",
       "\\bottomrule\n",
       "\\end{tabular}\n",
       "%\\caption{SARIMAX Results}\n",
       "\\end{center}\n",
       "\n",
       "Warnings: \\newline\n",
       " [1] Covariance matrix calculated using the outer product of gradients (complex-step)."
      ],
      "text/plain": [
       "<class 'statsmodels.iolib.summary.Summary'>\n",
       "\"\"\"\n",
       "                               SARIMAX Results                                \n",
       "==============================================================================\n",
       "Dep. Variable:           CPIHOSSL_log   No. Observations:                  704\n",
       "Model:                ARIMA(2, 1, 13)   Log Likelihood                3350.979\n",
       "Date:                Sun, 14 Sep 2025   AIC                          -6669.959\n",
       "Time:                        19:06:15   BIC                          -6597.073\n",
       "Sample:                             0   HQIC                         -6641.790\n",
       "                                - 704                                         \n",
       "Covariance Type:                  opg                                         \n",
       "==============================================================================\n",
       "                 coef    std err          z      P>|z|      [0.025      0.975]\n",
       "------------------------------------------------------------------------------\n",
       "ar.L1          0.5549      0.460      1.207      0.228      -0.346       1.456\n",
       "ar.L2          0.4292      0.456      0.942      0.346      -0.464       1.323\n",
       "ma.L1         -0.1909      0.462     -0.413      0.679      -1.096       0.715\n",
       "ma.L2         -0.2977      0.289     -1.030      0.303      -0.864       0.269\n",
       "ma.L3         -0.0884      0.031     -2.855      0.004      -0.149      -0.028\n",
       "ma.L4         -0.0970      0.044     -2.215      0.027      -0.183      -0.011\n",
       "ma.L5         -0.0091      0.046     -0.198      0.843      -0.100       0.081\n",
       "ma.L6          0.0265      0.031      0.854      0.393      -0.034       0.087\n",
       "ma.L7          0.0578      0.034      1.688      0.091      -0.009       0.125\n",
       "ma.L8          0.0091      0.038      0.237      0.813      -0.066       0.084\n",
       "ma.L9          0.0413      0.031      1.344      0.179      -0.019       0.102\n",
       "ma.L10        -0.0089      0.040     -0.219      0.827      -0.088       0.070\n",
       "ma.L11         0.0334      0.036      0.933      0.351      -0.037       0.104\n",
       "ma.L12        -0.1081      0.041     -2.655      0.008      -0.188      -0.028\n",
       "ma.L13         0.0090      0.069      0.130      0.897      -0.127       0.145\n",
       "sigma2      4.224e-06   1.07e-07     39.411      0.000    4.01e-06    4.43e-06\n",
       "===================================================================================\n",
       "Ljung-Box (L1) (Q):                   0.08   Jarque-Bera (JB):              9304.63\n",
       "Prob(Q):                              0.78   Prob(JB):                         0.00\n",
       "Heteroskedasticity (H):               0.13   Skew:                            -1.58\n",
       "Prob(H) (two-sided):                  0.00   Kurtosis:                        20.54\n",
       "===================================================================================\n",
       "\n",
       "Warnings:\n",
       "[1] Covariance matrix calculated using the outer product of gradients (complex-step).\n",
       "\"\"\""
      ]
     },
     "execution_count": 230,
     "metadata": {},
     "output_type": "execute_result"
    }
   ],
   "source": [
    "model = ARIMA(cpih['CPIHOSSL_log'], order=(2, 1, 13)).fit()\n",
    "model.summary()"
   ]
  },
  {
   "cell_type": "code",
   "execution_count": 231,
   "id": "33404fdd-0cc5-45cc-9a08-853c7d6a2350",
   "metadata": {},
   "outputs": [
    {
     "data": {
      "text/plain": [
       "704    5.858143\n",
       "705    5.861329\n",
       "706    5.864506\n",
       "707    5.867595\n",
       "708    5.870634\n",
       "709    5.873484\n",
       "710    5.876500\n",
       "711    5.879178\n",
       "712    5.882095\n",
       "713    5.884834\n",
       "714    5.887725\n",
       "715    5.890407\n",
       "716    5.893144\n",
       "717    5.895813\n",
       "718    5.898469\n",
       "Name: predicted_mean, dtype: float64"
      ]
     },
     "execution_count": 231,
     "metadata": {},
     "output_type": "execute_result"
    }
   ],
   "source": [
    "forecast = model.get_forecast(steps=15)\n",
    "fcast_mean = forecast.predicted_mean\n",
    "fcast_mean"
   ]
  },
  {
   "cell_type": "code",
   "execution_count": 236,
   "id": "aee50a51-6ab7-4cb5-ab4b-ba4bcd5c441e",
   "metadata": {},
   "outputs": [
    {
     "data": {
      "text/html": [
       "<div>\n",
       "<style scoped>\n",
       "    .dataframe tbody tr th:only-of-type {\n",
       "        vertical-align: middle;\n",
       "    }\n",
       "\n",
       "    .dataframe tbody tr th {\n",
       "        vertical-align: top;\n",
       "    }\n",
       "\n",
       "    .dataframe thead th {\n",
       "        text-align: right;\n",
       "    }\n",
       "</style>\n",
       "<table border=\"1\" class=\"dataframe\">\n",
       "  <thead>\n",
       "    <tr style=\"text-align: right;\">\n",
       "      <th></th>\n",
       "      <th>lower CPIHOSSL_log</th>\n",
       "      <th>upper CPIHOSSL_log</th>\n",
       "    </tr>\n",
       "  </thead>\n",
       "  <tbody>\n",
       "    <tr>\n",
       "      <th>704</th>\n",
       "      <td>5.854115</td>\n",
       "      <td>5.862171</td>\n",
       "    </tr>\n",
       "    <tr>\n",
       "      <th>705</th>\n",
       "      <td>5.854516</td>\n",
       "      <td>5.868142</td>\n",
       "    </tr>\n",
       "    <tr>\n",
       "      <th>706</th>\n",
       "      <td>5.854854</td>\n",
       "      <td>5.874158</td>\n",
       "    </tr>\n",
       "    <tr>\n",
       "      <th>707</th>\n",
       "      <td>5.855150</td>\n",
       "      <td>5.880040</td>\n",
       "    </tr>\n",
       "    <tr>\n",
       "      <th>708</th>\n",
       "      <td>5.855503</td>\n",
       "      <td>5.885766</td>\n",
       "    </tr>\n",
       "    <tr>\n",
       "      <th>709</th>\n",
       "      <td>5.855658</td>\n",
       "      <td>5.891310</td>\n",
       "    </tr>\n",
       "    <tr>\n",
       "      <th>710</th>\n",
       "      <td>5.855909</td>\n",
       "      <td>5.897091</td>\n",
       "    </tr>\n",
       "    <tr>\n",
       "      <th>711</th>\n",
       "      <td>5.855652</td>\n",
       "      <td>5.902705</td>\n",
       "    </tr>\n",
       "    <tr>\n",
       "      <th>712</th>\n",
       "      <td>5.855505</td>\n",
       "      <td>5.908684</td>\n",
       "    </tr>\n",
       "    <tr>\n",
       "      <th>713</th>\n",
       "      <td>5.854979</td>\n",
       "      <td>5.914690</td>\n",
       "    </tr>\n",
       "    <tr>\n",
       "      <th>714</th>\n",
       "      <td>5.854475</td>\n",
       "      <td>5.920974</td>\n",
       "    </tr>\n",
       "    <tr>\n",
       "      <th>715</th>\n",
       "      <td>5.853566</td>\n",
       "      <td>5.927248</td>\n",
       "    </tr>\n",
       "    <tr>\n",
       "      <th>716</th>\n",
       "      <td>5.852749</td>\n",
       "      <td>5.933539</td>\n",
       "    </tr>\n",
       "    <tr>\n",
       "      <th>717</th>\n",
       "      <td>5.851782</td>\n",
       "      <td>5.939845</td>\n",
       "    </tr>\n",
       "    <tr>\n",
       "      <th>718</th>\n",
       "      <td>5.850767</td>\n",
       "      <td>5.946172</td>\n",
       "    </tr>\n",
       "  </tbody>\n",
       "</table>\n",
       "</div>"
      ],
      "text/plain": [
       "     lower CPIHOSSL_log  upper CPIHOSSL_log\n",
       "704            5.854115            5.862171\n",
       "705            5.854516            5.868142\n",
       "706            5.854854            5.874158\n",
       "707            5.855150            5.880040\n",
       "708            5.855503            5.885766\n",
       "709            5.855658            5.891310\n",
       "710            5.855909            5.897091\n",
       "711            5.855652            5.902705\n",
       "712            5.855505            5.908684\n",
       "713            5.854979            5.914690\n",
       "714            5.854475            5.920974\n",
       "715            5.853566            5.927248\n",
       "716            5.852749            5.933539\n",
       "717            5.851782            5.939845\n",
       "718            5.850767            5.946172"
      ]
     },
     "execution_count": 236,
     "metadata": {},
     "output_type": "execute_result"
    }
   ],
   "source": [
    "forecast.conf_int()"
   ]
  },
  {
   "cell_type": "code",
   "execution_count": 202,
   "id": "b6872fa0-d347-41aa-93d4-e08fef143627",
   "metadata": {},
   "outputs": [
    {
     "data": {
      "text/plain": [
       "(719,)"
      ]
     },
     "execution_count": 202,
     "metadata": {},
     "output_type": "execute_result"
    }
   ],
   "source": [
    "data_with_pred = np.append(cpih['CPIHOSSL_log'].values, fcast_mean)\n",
    "data_with_pred.shape"
   ]
  },
  {
   "cell_type": "code",
   "execution_count": null,
   "id": "98af586d-a3d4-47df-a741-6f2c0112ba54",
   "metadata": {},
   "outputs": [],
   "source": []
  }
 ],
 "metadata": {
  "kernelspec": {
   "display_name": "Python 3 (ipykernel)",
   "language": "python",
   "name": "python3"
  },
  "language_info": {
   "codemirror_mode": {
    "name": "ipython",
    "version": 3
   },
   "file_extension": ".py",
   "mimetype": "text/x-python",
   "name": "python",
   "nbconvert_exporter": "python",
   "pygments_lexer": "ipython3",
   "version": "3.11.3"
  }
 },
 "nbformat": 4,
 "nbformat_minor": 5
}
